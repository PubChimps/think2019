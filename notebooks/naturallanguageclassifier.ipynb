{
 "cells": [
  {
   "cell_type": "code",
   "execution_count": 2,
   "metadata": {},
   "outputs": [
    {
     "name": "stdout",
     "output_type": "stream",
     "text": [
      "Collecting watson_developer_cloud\n",
      "  Downloading https://files.pythonhosted.org/packages/0b/95/02fae71ded88d5d8ae914773925c2a11986605abf29be3bb6dacd288dae7/watson-developer-cloud-2.8.0.tar.gz (283kB)\n",
      "\u001b[K    100% |████████████████████████████████| 286kB 3.2MB/s eta 0:00:01\n",
      "\u001b[?25hRequirement not upgraded as not directly required: requests<3.0,>=2.0 in /opt/conda/envs/DSX-Python35/lib/python3.5/site-packages (from watson_developer_cloud)\n",
      "Requirement not upgraded as not directly required: python_dateutil>=2.5.3 in /opt/conda/envs/DSX-Python35/lib/python3.5/site-packages (from watson_developer_cloud)\n",
      "Collecting websocket-client==0.48.0 (from watson_developer_cloud)\n",
      "  Downloading https://files.pythonhosted.org/packages/8a/a1/72ef9aa26cfe1a75cee09fc1957e4723add9de098c15719416a1ee89386b/websocket_client-0.48.0-py2.py3-none-any.whl (198kB)\n",
      "\u001b[K    100% |████████████████████████████████| 204kB 4.8MB/s eta 0:00:01\n",
      "\u001b[?25hRequirement not upgraded as not directly required: chardet<3.1.0,>=3.0.2 in /opt/conda/envs/DSX-Python35/lib/python3.5/site-packages (from requests<3.0,>=2.0->watson_developer_cloud)\n",
      "Requirement not upgraded as not directly required: idna<2.7,>=2.5 in /opt/conda/envs/DSX-Python35/lib/python3.5/site-packages (from requests<3.0,>=2.0->watson_developer_cloud)\n",
      "Requirement not upgraded as not directly required: urllib3<1.23,>=1.21.1 in /opt/conda/envs/DSX-Python35/lib/python3.5/site-packages (from requests<3.0,>=2.0->watson_developer_cloud)\n",
      "Requirement not upgraded as not directly required: certifi>=2017.4.17 in /opt/conda/envs/DSX-Python35/lib/python3.5/site-packages (from requests<3.0,>=2.0->watson_developer_cloud)\n",
      "Requirement not upgraded as not directly required: six>=1.5 in /opt/conda/envs/DSX-Python35/lib/python3.5/site-packages (from python_dateutil>=2.5.3->watson_developer_cloud)\n",
      "Building wheels for collected packages: watson-developer-cloud\n",
      "  Running setup.py bdist_wheel for watson-developer-cloud ... \u001b[?25ldone\n",
      "\u001b[?25h  Stored in directory: /home/dsxuser/.cache/pip/wheels/c3/24/97/eb1db28970f893acfca84588d4c35d23cfda58d0be3ae8cf08\n",
      "Successfully built watson-developer-cloud\n",
      "Installing collected packages: websocket-client, watson-developer-cloud\n",
      "Successfully installed watson-developer-cloud-2.8.0 websocket-client-0.48.0\n"
     ]
    }
   ],
   "source": [
    "!pip install watson_developer_cloud"
   ]
  },
  {
   "cell_type": "code",
   "execution_count": 3,
   "metadata": {},
   "outputs": [],
   "source": [
    "!ls"
   ]
  },
  {
   "cell_type": "markdown",
   "metadata": {},
   "source": [
    "## Only run this cell if cloudtrainingdata.csv is not present"
   ]
  },
  {
   "cell_type": "code",
   "execution_count": 4,
   "metadata": {},
   "outputs": [
    {
     "name": "stdout",
     "output_type": "stream",
     "text": [
      "--2019-02-06 22:28:35--  https://github.com/PubChimps/think2019/blob/master/data/cloudtrainingdata.csv?raw=true\n",
      "Resolving github.com (github.com)... 192.30.253.113, 192.30.253.112\n",
      "Connecting to github.com (github.com)|192.30.253.113|:443... connected.\n",
      "HTTP request sent, awaiting response... 302 Found\n",
      "Location: https://github.com/PubChimps/think2019/raw/master/data/cloudtrainingdata.csv [following]\n",
      "--2019-02-06 22:28:35--  https://github.com/PubChimps/think2019/raw/master/data/cloudtrainingdata.csv\n",
      "Reusing existing connection to github.com:443.\n",
      "HTTP request sent, awaiting response... 302 Found\n",
      "Location: https://raw.githubusercontent.com/PubChimps/think2019/master/data/cloudtrainingdata.csv [following]\n",
      "--2019-02-06 22:28:35--  https://raw.githubusercontent.com/PubChimps/think2019/master/data/cloudtrainingdata.csv\n",
      "Resolving raw.githubusercontent.com (raw.githubusercontent.com)... 151.101.48.133\n",
      "Connecting to raw.githubusercontent.com (raw.githubusercontent.com)|151.101.48.133|:443... connected.\n",
      "HTTP request sent, awaiting response... 200 OK\n",
      "Length: 2475664 (2.4M) [text/plain]\n",
      "Saving to: ‘cloudtrainingdata.csv?raw=true’\n",
      "\n",
      "100%[======================================>] 2,475,664   --.-K/s   in 0.05s   \n",
      "\n",
      "2019-02-06 22:28:36 (43.1 MB/s) - ‘cloudtrainingdata.csv?raw=true’ saved [2475664/2475664]\n",
      "\n"
     ]
    }
   ],
   "source": [
    "!wget https://github.com/PubChimps/think2019/blob/master/data/cloudtrainingdata.csv?raw=true\n",
    "!mv clou* cloudtrainingdata.csv"
   ]
  },
  {
   "cell_type": "code",
   "execution_count": 14,
   "metadata": {},
   "outputs": [],
   "source": [
    "from watson_developer_cloud import NaturalLanguageClassifierV1\n",
    "import json \n",
    "\n",
    "natural_language_classifier = NaturalLanguageClassifierV1(\n",
    "    iam_apikey='T3Pk1BLRBr84ub8O3gXsad-5cAjFo545h5-K976WML_o',\n",
    "    url='https://gateway.watsonplatform.net/natural-language-classifier/api')"
   ]
  },
  {
   "cell_type": "code",
   "execution_count": 15,
   "metadata": {},
   "outputs": [
    {
     "name": "stdout",
     "output_type": "stream",
     "text": [
      "{\n",
      "  \"status_description\": \"The classifier instance is in its training phase, not yet ready to accept classify requests\",\n",
      "  \"classifier_id\": \"bef6e3x498-nlc-113\",\n",
      "  \"name\": \"pretrained think classifier\",\n",
      "  \"language\": \"en\",\n",
      "  \"status\": \"Training\",\n",
      "  \"url\": \"https://gateway.watsonplatform.net/natural-language-classifier/api/v1/classifiers/bef6e3x498-nlc-113\",\n",
      "  \"created\": \"2019-02-06T22:32:18.229Z\"\n",
      "}\n"
     ]
    }
   ],
   "source": [
    "with open('cloudtrainingdata.csv', 'rb') as training_data:\n",
    "    classifier = natural_language_classifier.create_classifier(\n",
    "        training_data=training_data,\n",
    "        metadata='{\"name\": \"pretrained think classifier\",\"language\": \"en\"}'\n",
    "        ).get_result()\n",
    "print(json.dumps(classifier, indent=2))"
   ]
  },
  {
   "cell_type": "code",
   "execution_count": 11,
   "metadata": {},
   "outputs": [
    {
     "data": {
      "text/plain": [
       "{'classifiers': [{'classifier_id': 'bef6e3x498-nlc-105',\n",
       "   'created': '2019-02-06T21:20:23.543Z',\n",
       "   'language': 'en',\n",
       "   'name': 'New Classifier',\n",
       "   'url': 'https://gateway.watsonplatform.net/natural-language-classifier/api/v1/classifiers/bef6e3x498-nlc-105'},\n",
       "  {'classifier_id': 'befe0fx502-nlc-92',\n",
       "   'created': '2019-02-06T22:29:41.463Z',\n",
       "   'language': 'en',\n",
       "   'name': 'pretrained think classifier',\n",
       "   'url': 'https://gateway.watsonplatform.net/natural-language-classifier/api/v1/classifiers/befe0fx502-nlc-92'}]}"
      ]
     },
     "execution_count": 11,
     "metadata": {},
     "output_type": "execute_result"
    }
   ],
   "source": [
    "natural_language_classifier.list_classifiers().get_result()"
   ]
  },
  {
   "cell_type": "markdown",
   "metadata": {},
   "source": [
    "find the classifier_id of the classifier just created, copy it into the variable below and check the classifier's status"
   ]
  },
  {
   "cell_type": "code",
   "execution_count": 8,
   "metadata": {},
   "outputs": [],
   "source": [
    "CLASSIFIER_ID = 'bef6e3x498-nlc-105'"
   ]
  },
  {
   "cell_type": "code",
   "execution_count": 9,
   "metadata": {},
   "outputs": [
    {
     "data": {
      "text/plain": [
       "{'classifier_id': 'bef6e3x498-nlc-105',\n",
       " 'created': '2019-02-06T21:20:23.543Z',\n",
       " 'language': 'en',\n",
       " 'name': 'New Classifier',\n",
       " 'status': 'Training',\n",
       " 'status_description': 'The classifier instance is in its training phase, not yet ready to accept classify requests',\n",
       " 'url': 'https://gateway.watsonplatform.net/natural-language-classifier/api/v1/classifiers/bef6e3x498-nlc-105'}"
      ]
     },
     "execution_count": 9,
     "metadata": {},
     "output_type": "execute_result"
    }
   ],
   "source": [
    "natural_language_classifier.get_classifier(CLASSIFIER_ID).get_result()"
   ]
  }
 ],
 "metadata": {
  "kernelspec": {
   "display_name": "Python 3.5",
   "language": "python",
   "name": "python3"
  },
  "language_info": {
   "codemirror_mode": {
    "name": "ipython",
    "version": 3
   },
   "file_extension": ".py",
   "mimetype": "text/x-python",
   "name": "python",
   "nbconvert_exporter": "python",
   "pygments_lexer": "ipython3",
   "version": "3.5.5"
  }
 },
 "nbformat": 4,
 "nbformat_minor": 1
}
