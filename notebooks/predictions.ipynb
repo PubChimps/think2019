{
 "cells": [
  {
   "cell_type": "code",
   "execution_count": 17,
   "metadata": {},
   "outputs": [],
   "source": [
    "!pip install watson_developer_cloud\n",
    "\n",
    "import re\n",
    "import numpy as np\n",
    "import tensorflow as tf"
   ]
  },
  {
   "cell_type": "code",
   "execution_count": 22,
   "metadata": {},
   "outputs": [
    {
     "name": "stdout",
     "output_type": "stream",
     "text": [
      "checkpoint\t\t\t     params.ckpt-4.index\r\n",
      "cloudclassifier.npy\t\t     params.ckpt-4.meta\r\n",
      "clouddata.npz.zip\t\t     testset.npy\r\n",
      "cloudtrainingdata.csv\t\t     x_test.npy\r\n",
      "params.ckpt-199.data-00000-of-00001  x_train.npy\r\n",
      "params.ckpt-199.index\t\t     y_test.npy\r\n",
      "params.ckpt-199.meta\t\t     y_train.npy\r\n",
      "params.ckpt-4.data-00000-of-00001\r\n"
     ]
    }
   ],
   "source": [
    "!ls"
   ]
  },
  {
   "cell_type": "code",
   "execution_count": 5,
   "metadata": {},
   "outputs": [],
   "source": [
    "x_test = np.load('x_test.npy')\n",
    "y_test = np.load('y_test.npy')"
   ]
  },
  {
   "cell_type": "markdown",
   "metadata": {},
   "source": [
    "helper functions to create predictions"
   ]
  },
  {
   "cell_type": "code",
   "execution_count": 6,
   "metadata": {},
   "outputs": [],
   "source": [
    "def placeholders(n_x, n_y):\n",
    "    X = tf.placeholder(tf.float32, shape=(n_x, None), name=None)\n",
    "    Y = tf.placeholder(tf.float32, shape=(n_y, None), name=None)\n",
    "    \n",
    "    return X, Y\n",
    "\n",
    "def forward_prop(X, parameters):\n",
    "    \n",
    "    W1 = parameters['W1']\n",
    "    b1 = parameters['b1']\n",
    "    W2 = parameters['W2']\n",
    "    b2 = parameters['b2']\n",
    "    W3 = parameters['W3']\n",
    "    b3 = parameters['b3']\n",
    "    W4 = parameters['W4']\n",
    "    b4 = parameters['b4']\n",
    "    \n",
    "    Z1 = tf.add(tf.matmul(W1,X), b1)                      \n",
    "    A1 = tf.nn.relu(Z1)                                   \n",
    "    Z2 = tf.add(tf.matmul(W2,A1), b2)                   \n",
    "    A2 = tf.nn.relu(Z2)                                   \n",
    "    Z3 = tf.add(tf.matmul(W3,A2), b3)  \n",
    "    A3 = tf.nn.relu(Z3)\n",
    "    Z4 = tf.add(tf.matmul(W4,A3), b4)\n",
    "    \n",
    "    return Z4\n",
    "\n",
    "def compute_accuracy(pred, testdata):\n",
    "    count = 0\n",
    "    for i in range(len(pred)):\n",
    "        if pred[i]==testdata[i][1]:\n",
    "            count += 1\n",
    "    return float(count)/len(pred)"
   ]
  },
  {
   "cell_type": "code",
   "execution_count": 12,
   "metadata": {},
   "outputs": [],
   "source": [
    "from watson_developer_cloud import NaturalLanguageClassifierV1\n",
    "\n",
    "natural_language_classifier = NaturalLanguageClassifierV1(\n",
    "    username='YOUR NLC USERNAME',\n",
    "    password='YOUR NLC PASSWORD')"
   ]
  },
  {
   "cell_type": "markdown",
   "metadata": {},
   "source": [
    "### Find the classifier made in the notebook naturallanguageclassifier.ipynb\n",
    "copy its id to the variable CLASSIFIER_ID"
   ]
  },
  {
   "cell_type": "code",
   "execution_count": null,
   "metadata": {},
   "outputs": [],
   "source": [
    "natural_language_classifier.list_classifiers().get_result()"
   ]
  },
  {
   "cell_type": "code",
   "execution_count": null,
   "metadata": {},
   "outputs": [],
   "source": [
    "CLASSIFIER_ID = 'ENTER CLASSIFIER ID'"
   ]
  },
  {
   "cell_type": "markdown",
   "metadata": {},
   "source": [
    "check classifier availability. Classifier should be available and ready to take classifier requests"
   ]
  },
  {
   "cell_type": "code",
   "execution_count": 15,
   "metadata": {},
   "outputs": [
    {
     "data": {
      "text/plain": [
       "{'classifier_id': '9b88dax497-nlc-199',\n",
       " 'created': '2019-01-31T19:03:58.095Z',\n",
       " 'language': 'en',\n",
       " 'name': 'think Cloud Classifier',\n",
       " 'status': 'Available',\n",
       " 'status_description': 'The classifier instance is now available and is ready to take classifier requests.',\n",
       " 'url': 'https://gateway.watsonplatform.net/natural-language-classifier/api/v1/classifiers/9b88dax497-nlc-199'}"
      ]
     },
     "execution_count": 15,
     "metadata": {},
     "output_type": "execute_result"
    }
   ],
   "source": [
    "natural_language_classifier.get_classifier(CLASSIFIER_ID).get_result()"
   ]
  },
  {
   "cell_type": "code",
   "execution_count": 18,
   "metadata": {},
   "outputs": [],
   "source": [
    "testset = np.load('testset.npy')\n",
    "watsonpred = []\n",
    "for i in testset:\n",
    "    x = natural_language_classifier.classify(CLASSIFIER_ID,re.sub(' +',' ',\" \".join(re.split(r'[^\\w]', re.sub(re.compile(\"/\\*.*?\\*/\",re.DOTALL ) ,\"\" ,i[0]))))[0:2048])\n",
    "    watsonpred.append(x.get_result()['top_class'])"
   ]
  },
  {
   "cell_type": "code",
   "execution_count": 9,
   "metadata": {},
   "outputs": [
    {
     "name": "stdout",
     "output_type": "stream",
     "text": [
      "INFO:tensorflow:Restoring parameters from ./params.ckpt-199\n",
      "Test Accuracy: 0.903448\n"
     ]
    }
   ],
   "source": [
    "with tf.Session() as sess:    \n",
    "    X, Y = placeholders(x_test.shape[0], y_test.shape[0])\n",
    "    saver = tf.train.import_meta_graph('params.ckpt-199.meta')\n",
    "    saver.restore(sess,tf.train.latest_checkpoint('./'))\n",
    "    parameters = {\"W1\": sess.run('W1:0'),\n",
    "                  \"b1\": sess.run('b1:0'),\n",
    "                  \"W2\": sess.run('W2:0'),\n",
    "                  \"b2\": sess.run('b2:0'),\n",
    "                  \"W3\": sess.run('W3:0'),\n",
    "                  \"b3\": sess.run('b3:0'),\n",
    "                  \"W4\": sess.run('W4:0'),\n",
    "                  \"b4\": sess.run('b4:0')}\n",
    "    Z4 = forward_prop(X, parameters)\n",
    "    \n",
    "    correct_prediction = tf.equal(tf.argmax(Z4), tf.argmax(Y))\n",
    "    \n",
    "    accuracy = tf.reduce_mean(tf.cast(correct_prediction, \"float\"))\n",
    "    print(\"Test Accuracy Watson NLC API: \" + str(compute_accuracy(watsonpred,testset)))\n",
    "    print (\"Test Accuracy TensorFlow:\", accuracy.eval({X: x_test, Y: y_test}))"
   ]
  }
 ],
 "metadata": {
  "kernelspec": {
   "display_name": "Python 3.5",
   "language": "python",
   "name": "python3"
  },
  "language_info": {
   "codemirror_mode": {
    "name": "ipython",
    "version": 3
   },
   "file_extension": ".py",
   "mimetype": "text/x-python",
   "name": "python",
   "nbconvert_exporter": "python",
   "pygments_lexer": "ipython3",
   "version": "3.5.5"
  }
 },
 "nbformat": 4,
 "nbformat_minor": 1
}
