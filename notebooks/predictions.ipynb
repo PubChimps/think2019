{
 "cells": [
  {
   "cell_type": "code",
   "execution_count": 1,
   "metadata": {},
   "outputs": [
    {
     "name": "stdout",
     "output_type": "stream",
     "text": [
      "Collecting watson_developer_cloud\n",
      "  Downloading https://files.pythonhosted.org/packages/0b/95/02fae71ded88d5d8ae914773925c2a11986605abf29be3bb6dacd288dae7/watson-developer-cloud-2.8.0.tar.gz (283kB)\n",
      "\u001b[K    100% |████████████████████████████████| 286kB 2.9MB/s eta 0:00:01\n",
      "\u001b[?25hRequirement not upgraded as not directly required: requests<3.0,>=2.0 in /opt/conda/envs/DSX-Python35/lib/python3.5/site-packages (from watson_developer_cloud)\n",
      "Requirement not upgraded as not directly required: python_dateutil>=2.5.3 in /opt/conda/envs/DSX-Python35/lib/python3.5/site-packages (from watson_developer_cloud)\n",
      "Collecting websocket-client==0.48.0 (from watson_developer_cloud)\n",
      "  Downloading https://files.pythonhosted.org/packages/8a/a1/72ef9aa26cfe1a75cee09fc1957e4723add9de098c15719416a1ee89386b/websocket_client-0.48.0-py2.py3-none-any.whl (198kB)\n",
      "\u001b[K    100% |████████████████████████████████| 204kB 377kB/s ta 0:00:011\n",
      "\u001b[?25hRequirement not upgraded as not directly required: chardet<3.1.0,>=3.0.2 in /opt/conda/envs/DSX-Python35/lib/python3.5/site-packages (from requests<3.0,>=2.0->watson_developer_cloud)\n",
      "Requirement not upgraded as not directly required: idna<2.7,>=2.5 in /opt/conda/envs/DSX-Python35/lib/python3.5/site-packages (from requests<3.0,>=2.0->watson_developer_cloud)\n",
      "Requirement not upgraded as not directly required: urllib3<1.23,>=1.21.1 in /opt/conda/envs/DSX-Python35/lib/python3.5/site-packages (from requests<3.0,>=2.0->watson_developer_cloud)\n",
      "Requirement not upgraded as not directly required: certifi>=2017.4.17 in /opt/conda/envs/DSX-Python35/lib/python3.5/site-packages (from requests<3.0,>=2.0->watson_developer_cloud)\n",
      "Requirement not upgraded as not directly required: six>=1.5 in /opt/conda/envs/DSX-Python35/lib/python3.5/site-packages (from python_dateutil>=2.5.3->watson_developer_cloud)\n",
      "Building wheels for collected packages: watson-developer-cloud\n",
      "  Running setup.py bdist_wheel for watson-developer-cloud ... \u001b[?25ldone\n",
      "\u001b[?25h  Stored in directory: /home/dsxuser/.cache/pip/wheels/c3/24/97/eb1db28970f893acfca84588d4c35d23cfda58d0be3ae8cf08\n",
      "Successfully built watson-developer-cloud\n",
      "Installing collected packages: websocket-client, watson-developer-cloud\n",
      "Successfully installed watson-developer-cloud-2.8.0 websocket-client-0.48.0\n"
     ]
    }
   ],
   "source": [
    "!pip install watson_developer_cloud\n",
    "\n",
    "import re\n",
    "import numpy as np\n",
    "import tensorflow as tf"
   ]
  },
  {
   "cell_type": "code",
   "execution_count": 3,
   "metadata": {},
   "outputs": [
    {
     "name": "stdout",
     "output_type": "stream",
     "text": [
      "checkpoint\t       params.ckpt-199.data-00000-of-00001  x_test.npy\r\n",
      "cloudclassifier.npy    params.ckpt-199.index\t\t    x_train.npy\r\n",
      "clouddata.npz.zip      params.ckpt-199.meta\t\t    y_test.npy\r\n",
      "cloudtrainingdata.csv  testset.npy\t\t\t    y_train.npy\r\n"
     ]
    }
   ],
   "source": [
    "!ls"
   ]
  },
  {
   "cell_type": "code",
   "execution_count": 4,
   "metadata": {},
   "outputs": [],
   "source": [
    "x_test = np.load('x_test.npy')\n",
    "y_test = np.load('y_test.npy')"
   ]
  },
  {
   "cell_type": "markdown",
   "metadata": {},
   "source": [
    "helper functions to create predictions"
   ]
  },
  {
   "cell_type": "code",
   "execution_count": 5,
   "metadata": {},
   "outputs": [],
   "source": [
    "def placeholders(n_x, n_y):\n",
    "    X = tf.placeholder(tf.float32, shape=(n_x, None), name=None)\n",
    "    Y = tf.placeholder(tf.float32, shape=(n_y, None), name=None)\n",
    "    \n",
    "    return X, Y\n",
    "\n",
    "def forward_prop(X, parameters):\n",
    "    \n",
    "    W1 = parameters['W1']\n",
    "    b1 = parameters['b1']\n",
    "    W2 = parameters['W2']\n",
    "    b2 = parameters['b2']\n",
    "    W3 = parameters['W3']\n",
    "    b3 = parameters['b3']\n",
    "    W4 = parameters['W4']\n",
    "    b4 = parameters['b4']\n",
    "    \n",
    "    Z1 = tf.add(tf.matmul(W1,X), b1)                      \n",
    "    A1 = tf.nn.relu(Z1)                                   \n",
    "    Z2 = tf.add(tf.matmul(W2,A1), b2)                   \n",
    "    A2 = tf.nn.relu(Z2)                                   \n",
    "    Z3 = tf.add(tf.matmul(W3,A2), b3)  \n",
    "    A3 = tf.nn.relu(Z3)\n",
    "    Z4 = tf.add(tf.matmul(W4,A3), b4)\n",
    "    \n",
    "    return Z4\n",
    "\n",
    "def compute_accuracy(pred, testdata):\n",
    "    count = 0\n",
    "    for i in range(len(pred)):\n",
    "        if pred[i]==testdata[i][1]:\n",
    "            count += 1\n",
    "    return float(count)/len(pred)"
   ]
  },
  {
   "cell_type": "code",
   "execution_count": 6,
   "metadata": {},
   "outputs": [],
   "source": [
    "from watson_developer_cloud import NaturalLanguageClassifierV1\n",
    "\n",
    "natural_language_classifier = NaturalLanguageClassifierV1(\n",
    "    iam_apikey='T3Pk1BLRBr84ub8O3gXsad-5cAjFo545h5-K976WML_o',\n",
    "    url='https://gateway.watsonplatform.net/natural-language-classifier/api')"
   ]
  },
  {
   "cell_type": "markdown",
   "metadata": {},
   "source": [
    "### Find the classifier made in the notebook naturallanguageclassifier.ipynb\n",
    "copy its id to the variable CLASSIFIER_ID"
   ]
  },
  {
   "cell_type": "code",
   "execution_count": 8,
   "metadata": {},
   "outputs": [],
   "source": [
    "CLASSIFIER_ID = 'bef9eax500-nlc-99'"
   ]
  },
  {
   "cell_type": "markdown",
   "metadata": {},
   "source": [
    "check classifier availability. Classifier should be available and ready to take classifier requests"
   ]
  },
  {
   "cell_type": "code",
   "execution_count": 9,
   "metadata": {},
   "outputs": [
    {
     "data": {
      "text/plain": [
       "{'classifier_id': 'bef9eax500-nlc-99',\n",
       " 'created': '2019-02-06T22:32:00.904Z',\n",
       " 'language': 'en',\n",
       " 'name': 'pretrained think classifier',\n",
       " 'status': 'Available',\n",
       " 'status_description': 'The classifier instance is now available and is ready to take classifier requests.',\n",
       " 'url': 'https://gateway.watsonplatform.net/natural-language-classifier/api/v1/classifiers/bef9eax500-nlc-99'}"
      ]
     },
     "execution_count": 9,
     "metadata": {},
     "output_type": "execute_result"
    }
   ],
   "source": [
    "natural_language_classifier.get_classifier(CLASSIFIER_ID).get_result()"
   ]
  },
  {
   "cell_type": "code",
   "execution_count": 10,
   "metadata": {},
   "outputs": [],
   "source": [
    "testset = np.load('testset.npy')\n",
    "watsonpred = []\n",
    "for i in testset:\n",
    "    x = natural_language_classifier.classify(CLASSIFIER_ID,re.sub(' +',' ',\" \".join(re.split(r'[^\\w]', re.sub(re.compile(\"/\\*.*?\\*/\",re.DOTALL ) ,\"\" ,i[0]))))[0:2048])\n",
    "    watsonpred.append(x.get_result()['top_class'])"
   ]
  },
  {
   "cell_type": "code",
   "execution_count": 11,
   "metadata": {},
   "outputs": [
    {
     "name": "stdout",
     "output_type": "stream",
     "text": [
      "INFO:tensorflow:Restoring parameters from ./params.ckpt-199\n",
      "Test Accuracy Watson NLC API: 0.9655172413793104\n",
      "Test Accuracy TensorFlow: 0.855172\n"
     ]
    }
   ],
   "source": [
    "with tf.Session() as sess:    \n",
    "    X, Y = placeholders(x_test.shape[0], y_test.shape[0])\n",
    "    saver = tf.train.import_meta_graph('params.ckpt-199.meta')\n",
    "    saver.restore(sess,tf.train.latest_checkpoint('./'))\n",
    "    parameters = {\"W1\": sess.run('W1:0'),\n",
    "                  \"b1\": sess.run('b1:0'),\n",
    "                  \"W2\": sess.run('W2:0'),\n",
    "                  \"b2\": sess.run('b2:0'),\n",
    "                  \"W3\": sess.run('W3:0'),\n",
    "                  \"b3\": sess.run('b3:0'),\n",
    "                  \"W4\": sess.run('W4:0'),\n",
    "                  \"b4\": sess.run('b4:0')}\n",
    "    Z4 = forward_prop(X, parameters)\n",
    "    \n",
    "    correct_prediction = tf.equal(tf.argmax(Z4), tf.argmax(Y))\n",
    "    \n",
    "    accuracy = tf.reduce_mean(tf.cast(correct_prediction, \"float\"))\n",
    "    print(\"Test Accuracy Watson NLC API: \" + str(compute_accuracy(watsonpred,testset)))\n",
    "    print (\"Test Accuracy TensorFlow:\", accuracy.eval({X: x_test, Y: y_test}))"
   ]
  }
 ],
 "metadata": {
  "kernelspec": {
   "display_name": "Python 3.5",
   "language": "python",
   "name": "python3"
  },
  "language_info": {
   "codemirror_mode": {
    "name": "ipython",
    "version": 3
   },
   "file_extension": ".py",
   "mimetype": "text/x-python",
   "name": "python",
   "nbconvert_exporter": "python",
   "pygments_lexer": "ipython3",
   "version": "3.5.5"
  }
 },
 "nbformat": 4,
 "nbformat_minor": 1
}
